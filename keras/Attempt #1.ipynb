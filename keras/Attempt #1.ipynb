{
 "cells": [
  {
   "cell_type": "markdown",
   "metadata": {},
   "source": [
    "# Attempt 1\n",
    "\n",
    "This is the first attempt at generating a Neural Network which can recognize the cry of a child, using Keras and CNTK"
   ]
  },
  {
   "cell_type": "code",
   "execution_count": 69,
   "metadata": {},
   "outputs": [],
   "source": [
    "# Enable intellisense\n",
    "%config IPCompleter.greedy=True"
   ]
  },
  {
   "cell_type": "code",
   "execution_count": 53,
   "metadata": {},
   "outputs": [],
   "source": [
    "from __future__ import print_function\n",
    "from keras.models import Sequential\n",
    "from keras.layers import Dense, Dropout, Flatten\n",
    "from keras.layers import BatchNormalization\n",
    "from keras.utils import to_categorical\n",
    "import numpy as np"
   ]
  },
  {
   "cell_type": "markdown",
   "metadata": {},
   "source": [
    "Having imported the necessary libraries, we now move on to load the files.\n",
    "The files contain the data for the different sets, and their labels are generated."
   ]
  },
  {
   "cell_type": "code",
   "execution_count": 4,
   "metadata": {
    "scrolled": false
   },
   "outputs": [
    {
     "name": "stdout",
     "output_type": "stream",
     "text": [
      "Cries #: (9000L, 128L)\n",
      "Noise #: (25000L, 128L)\n"
     ]
    }
   ],
   "source": [
    "cries = np.load(\"../dataset/slow/cries.npy\")\n",
    "cry_labels = np.ones((cries.shape[0], 1), dtype=int)\n",
    "\n",
    "noise = np.load(\"../dataset/slow/noise.npy\")\n",
    "noise_labels = np.zeros((noise.shape[0], 1), dtype=int)\n",
    "\n",
    "print(\"Cries #:\", cries.shape)\n",
    "print(\"Noise #:\", noise.shape)"
   ]
  },
  {
   "cell_type": "markdown",
   "metadata": {},
   "source": [
    "The shape describes the two dimensions of the dataset, i.e. the amount of rows and their length.\n",
    "\n",
    "Say with a matrix of (100, 128), there are 100 rows with a vector of length 128.\n",
    "\n",
    "Now that we have our datasets loaded, we can design our neural network."
   ]
  },
  {
   "cell_type": "code",
   "execution_count": 3,
   "metadata": {},
   "outputs": [],
   "source": [
    "# Save the datasets as npy for faster loading\n",
    "cries = np.loadtxt(\"../dataset/slow/cries_slow.csv\", dtype=np.int16, delimiter=',')\n",
    "np.save(\"../dataset/slow/cries\", cries)\n",
    "noise = np.loadtxt(\"../dataset/slow/noise_slow.csv\", dtype=np.int16, delimiter=',')\n",
    "np.save(\"../dataset/slow/noise\", noise)"
   ]
  },
  {
   "cell_type": "code",
   "execution_count": 43,
   "metadata": {},
   "outputs": [],
   "source": [
    "c_len = cries.shape[0]\n",
    "c_cut = c_len/10*10\n",
    "n_len = noise.shape[0]\n",
    "n_cut = n_len/10*10\n",
    "\n",
    "training_data = np.vstack((cries[:c_cut],noise[:n_cut]))\n",
    "training_labels = np.vstack((cry_labels[:c_cut], noise_labels[:n_cut]))\n",
    "\n",
    "testing_data = np.vstack((cries[c_cut:],noise[n_cut:]))\n",
    "testing_labels = np.vstack((cry_labels[c_cut:], noise_labels[n_cut:]))"
   ]
  },
  {
   "cell_type": "code",
   "execution_count": 62,
   "metadata": {},
   "outputs": [
    {
     "name": "stdout",
     "output_type": "stream",
     "text": [
      "Epoch 1/10\n",
      "34000/34000 [==============================] - 6s 170us/step - loss: 0.2916 - acc: 0.8936 2s - loss - ETA: 1s - loss: 0.\n",
      "Epoch 2/10\n",
      "34000/34000 [==============================] - 6s 173us/step - loss: 0.2666 - acc: 0.9020 1s - loss: 0.2698 - acc: 0. - ETA: 0s - loss: 0.268\n",
      "Epoch 3/10\n",
      "34000/34000 [==============================] - 6s 170us/step - loss: 0.2627 - acc: 0.9041 4s - loss: 0.26 - ETA: 3s - loss: 0.2634 \n",
      "Epoch 4/10\n",
      "34000/34000 [==============================] - 6s 174us/step - loss: 0.2605 - acc: 0.9055 1s - loss: 0 - ETA: 0s - loss: 0.2606 - acc: \n",
      "Epoch 5/10\n",
      "34000/34000 [==============================] - 6s 171us/step - loss: 0.2594 - acc: 0.9063 0s - loss: 0.2606 - acc: 0.9 - ETA: 0s - loss: 0.2598 - \n",
      "Epoch 6/10\n",
      "34000/34000 [==============================] - 6s 176us/step - loss: 0.2563 - acc: 0.9074 1s - loss\n",
      "Epoch 7/10\n",
      "34000/34000 [==============================] - 6s 172us/step - loss: 0.2575 - acc: 0.9077 1s - loss: 0.2581 - acc: 0.907 - ETA: 0s - loss: 0.2572 -  - ETA: 0s - loss: 0.2570 - acc: 0\n",
      "Epoch 8/10\n",
      "34000/34000 [==============================] - 6s 175us/step - loss: 0.2549 - acc: 0.9071 4s - loss: 0.2679  - ETA: 3s - lo - ETA: 1s \n",
      "Epoch 9/10\n",
      "34000/34000 [==============================] - 6s 172us/step - loss: 0.2540 - acc: 0.9076\n",
      "Epoch 10/10\n",
      "34000/34000 [==============================] - 6s 174us/step - loss: 0.2559 - acc: 0.9071 1s - loss: 0.2534 - acc: 0.908 - ETA: 1s - loss: 0.2542 - a - ETA: 1s - loss: 0.25\n"
     ]
    },
    {
     "data": {
      "text/plain": [
       "[]"
      ]
     },
     "execution_count": 62,
     "metadata": {},
     "output_type": "execute_result"
    }
   ],
   "source": [
    "model = Sequential()\n",
    "model.add(BatchNormalization(input_shape=(128,)))\n",
    "model.add(Dense(units=4, activation=\"relu\"))\n",
    "model.add(Dense(units=1, activation=\"sigmoid\"))\n",
    "\n",
    "model.compile(optimizer='rmsprop', loss='binary_crossentropy', metrics=['accuracy'])\n",
    "model.fit(training_data, training_labels, epochs=10, batch_size=128)\n",
    "model.evaluate(testing_data, testing_labels, batch_size=128)"
   ]
  },
  {
   "cell_type": "code",
   "execution_count": 63,
   "metadata": {},
   "outputs": [
    {
     "name": "stdout",
     "output_type": "stream",
     "text": [
      "tp rate:  0.754555555556 \n",
      "fp rate:  0.035\n"
     ]
    }
   ],
   "source": [
    "# true positive rate\n",
    "tp = np.sum(model.predict_classes(cries))\n",
    "tp_rate = float(tp)/cries.shape[0]\n",
    "\n",
    "# false positive rate\n",
    "fp = np.sum(model.predict_classes(noise))\n",
    "fp_rate = float(fp)/noise.shape[0]\n",
    "\n",
    "print(\"tp rate: \", tp_rate, \"\\nfp rate: \", fp_rate)"
   ]
  },
  {
   "cell_type": "code",
   "execution_count": 64,
   "metadata": {},
   "outputs": [
    {
     "data": {
      "text/plain": [
       "(8L, 128L)"
      ]
     },
     "execution_count": 64,
     "metadata": {},
     "output_type": "execute_result"
    }
   ],
   "source": [
    "arr = np.arange(1024).reshape(8, 128)\n",
    "arr.shape"
   ]
  },
  {
   "cell_type": "code",
   "execution_count": 65,
   "metadata": {},
   "outputs": [
    {
     "data": {
      "text/plain": [
       "array([[1.        ],\n",
       "       [1.        ],\n",
       "       [0.9999999 ],\n",
       "       [0.9999981 ],\n",
       "       [0.99995863],\n",
       "       [0.99911195],\n",
       "       [0.9812626 ],\n",
       "       [0.7090931 ]], dtype=float32)"
      ]
     },
     "execution_count": 65,
     "metadata": {},
     "output_type": "execute_result"
    }
   ],
   "source": [
    "# See how the predictions spread across the noise levels\n",
    "model.predict(arr)"
   ]
  },
  {
   "cell_type": "code",
   "execution_count": 67,
   "metadata": {},
   "outputs": [],
   "source": [
    "# Save the successful model\n",
    "model.save(\"recognizer.h5\")"
   ]
  },
  {
   "cell_type": "markdown",
   "metadata": {},
   "source": [
    "Now the model can be used to load and respond to the NXT."
   ]
  },
  {
   "cell_type": "code",
   "execution_count": 72,
   "metadata": {},
   "outputs": [
    {
     "name": "stdout",
     "output_type": "stream",
     "text": [
      "Connecting via Bluetooth...\n",
      "Connected.\n",
      "1\n",
      "1\n",
      "1\n",
      "1\n",
      "1\n",
      "1\n",
      "1\n",
      "1\n",
      "1\n",
      "1\n",
      "1\n",
      "1\n",
      "1\n",
      "1\n",
      "1\n",
      "1\n",
      "1\n",
      "1\n",
      "1\n",
      "1\n",
      "1\n",
      "1\n",
      "1\n"
     ]
    },
    {
     "ename": "KeyboardInterrupt",
     "evalue": "",
     "output_type": "error",
     "traceback": [
      "\u001b[1;31m---------------------------------------------------------------------------\u001b[0m",
      "\u001b[1;31mKeyboardInterrupt\u001b[0m                         Traceback (most recent call last)",
      "\u001b[1;32m<ipython-input-72-6702f82593e1>\u001b[0m in \u001b[0;36m<module>\u001b[1;34m()\u001b[0m\n\u001b[0;32m      6\u001b[0m     \u001b[0mlines\u001b[0m \u001b[1;33m=\u001b[0m \u001b[1;33m[\u001b[0m\u001b[1;33m]\u001b[0m\u001b[1;33m\u001b[0m\u001b[0m\n\u001b[0;32m      7\u001b[0m     \u001b[1;32mfor\u001b[0m \u001b[0mi\u001b[0m \u001b[1;32min\u001b[0m \u001b[0mrange\u001b[0m\u001b[1;33m(\u001b[0m\u001b[1;36m0\u001b[0m\u001b[1;33m,\u001b[0m \u001b[1;36m5\u001b[0m\u001b[1;33m)\u001b[0m\u001b[1;33m:\u001b[0m\u001b[1;33m\u001b[0m\u001b[0m\n\u001b[1;32m----> 8\u001b[1;33m         \u001b[0mline\u001b[0m \u001b[1;33m=\u001b[0m \u001b[0mrc\u001b[0m\u001b[1;33m.\u001b[0m\u001b[0mrecv\u001b[0m\u001b[1;33m(\u001b[0m\u001b[1;36m256\u001b[0m\u001b[1;33m)\u001b[0m\u001b[1;33m\u001b[0m\u001b[0m\n\u001b[0m\u001b[0;32m      9\u001b[0m         \u001b[0mlines\u001b[0m\u001b[1;33m.\u001b[0m\u001b[0mappend\u001b[0m\u001b[1;33m(\u001b[0m\u001b[1;33m[\u001b[0m\u001b[0munpack_u16\u001b[0m\u001b[1;33m(\u001b[0m\u001b[0mline\u001b[0m\u001b[1;33m[\u001b[0m\u001b[0mi\u001b[0m\u001b[1;33m:\u001b[0m\u001b[0mi\u001b[0m\u001b[1;33m+\u001b[0m\u001b[1;36m2\u001b[0m\u001b[1;33m]\u001b[0m\u001b[1;33m)\u001b[0m \u001b[1;32mfor\u001b[0m \u001b[0mi\u001b[0m \u001b[1;32min\u001b[0m \u001b[0mrange\u001b[0m\u001b[1;33m(\u001b[0m\u001b[1;36m0\u001b[0m\u001b[1;33m,\u001b[0m \u001b[0mline\u001b[0m\u001b[1;33m.\u001b[0m\u001b[0m__len__\u001b[0m\u001b[1;33m(\u001b[0m\u001b[1;33m)\u001b[0m\u001b[1;33m,\u001b[0m \u001b[1;36m2\u001b[0m\u001b[1;33m)\u001b[0m\u001b[1;33m]\u001b[0m\u001b[1;33m)\u001b[0m\u001b[1;33m\u001b[0m\u001b[0m\n\u001b[0;32m     10\u001b[0m     \u001b[0mval\u001b[0m \u001b[1;33m=\u001b[0m \u001b[0mnp\u001b[0m\u001b[1;33m.\u001b[0m\u001b[0msum\u001b[0m\u001b[1;33m(\u001b[0m\u001b[0mmodel\u001b[0m\u001b[1;33m.\u001b[0m\u001b[0mpredict_classes\u001b[0m\u001b[1;33m(\u001b[0m\u001b[0mnp\u001b[0m\u001b[1;33m.\u001b[0m\u001b[0mvstack\u001b[0m\u001b[1;33m(\u001b[0m\u001b[0mlines\u001b[0m\u001b[1;33m)\u001b[0m\u001b[1;33m)\u001b[0m\u001b[1;33m)\u001b[0m \u001b[1;33m/\u001b[0m \u001b[1;36m5\u001b[0m\u001b[1;33m\u001b[0m\u001b[0m\n",
      "\u001b[1;32mC:\\Users\\hilma\\source\\repos\\P5\\keras\\receiver.pyc\u001b[0m in \u001b[0;36mrecv\u001b[1;34m(self, len)\u001b[0m\n\u001b[0;32m     19\u001b[0m         \u001b[0mpayload\u001b[0m \u001b[1;33m=\u001b[0m \u001b[1;34m\"\"\u001b[0m\u001b[1;33m\u001b[0m\u001b[0m\n\u001b[0;32m     20\u001b[0m         \u001b[1;32mwhile\u001b[0m \u001b[0mreceived\u001b[0m \u001b[1;33m<\u001b[0m \u001b[0mlen\u001b[0m\u001b[1;33m:\u001b[0m\u001b[1;33m\u001b[0m\u001b[0m\n\u001b[1;32m---> 21\u001b[1;33m             \u001b[0mt\u001b[0m \u001b[1;33m=\u001b[0m \u001b[0mself\u001b[0m\u001b[1;33m.\u001b[0m\u001b[0msock\u001b[0m\u001b[1;33m.\u001b[0m\u001b[0mrecv\u001b[0m\u001b[1;33m(\u001b[0m\u001b[0mlen\u001b[0m \u001b[1;33m-\u001b[0m \u001b[0mreceived\u001b[0m\u001b[1;33m)\u001b[0m\u001b[1;33m\u001b[0m\u001b[0m\n\u001b[0m\u001b[0;32m     22\u001b[0m             \u001b[0mreceived\u001b[0m \u001b[1;33m+=\u001b[0m \u001b[0mt\u001b[0m\u001b[1;33m.\u001b[0m\u001b[0m__len__\u001b[0m\u001b[1;33m(\u001b[0m\u001b[1;33m)\u001b[0m\u001b[1;33m\u001b[0m\u001b[0m\n\u001b[0;32m     23\u001b[0m             \u001b[0mpayload\u001b[0m \u001b[1;33m+=\u001b[0m \u001b[0mt\u001b[0m\u001b[1;33m\u001b[0m\u001b[0m\n",
      "\u001b[1;32mc:\\python27\\lib\\site-packages\\bluetooth\\msbt.pyc\u001b[0m in \u001b[0;36mrecv\u001b[1;34m(self, numbytes)\u001b[0m\n\u001b[0;32m     88\u001b[0m \u001b[1;33m\u001b[0m\u001b[0m\n\u001b[0;32m     89\u001b[0m     \u001b[1;32mdef\u001b[0m \u001b[0mrecv\u001b[0m \u001b[1;33m(\u001b[0m\u001b[0mself\u001b[0m\u001b[1;33m,\u001b[0m \u001b[0mnumbytes\u001b[0m\u001b[1;33m)\u001b[0m\u001b[1;33m:\u001b[0m\u001b[1;33m\u001b[0m\u001b[0m\n\u001b[1;32m---> 90\u001b[1;33m         \u001b[1;32mreturn\u001b[0m \u001b[0mbt\u001b[0m\u001b[1;33m.\u001b[0m\u001b[0mrecv\u001b[0m \u001b[1;33m(\u001b[0m\u001b[0mself\u001b[0m\u001b[1;33m.\u001b[0m\u001b[0m_sockfd\u001b[0m\u001b[1;33m,\u001b[0m \u001b[0mnumbytes\u001b[0m\u001b[1;33m)\u001b[0m\u001b[1;33m\u001b[0m\u001b[0m\n\u001b[0m\u001b[0;32m     91\u001b[0m \u001b[1;33m\u001b[0m\u001b[0m\n\u001b[0;32m     92\u001b[0m     \u001b[1;32mdef\u001b[0m \u001b[0mclose\u001b[0m \u001b[1;33m(\u001b[0m\u001b[0mself\u001b[0m\u001b[1;33m)\u001b[0m\u001b[1;33m:\u001b[0m\u001b[1;33m\u001b[0m\u001b[0m\n",
      "\u001b[1;31mKeyboardInterrupt\u001b[0m: "
     ]
    }
   ],
   "source": [
    "from receiver import NXTReceiver, unpack_u16\n",
    "\n",
    "rc = NXTReceiver()\n",
    "\n",
    "while True:\n",
    "    lines = []\n",
    "    for i in range(0, 5):\n",
    "        line = rc.recv(256)\n",
    "        lines.append([unpack_u16(line[i:i+2]) for i in range(0, line.__len__(), 2)])\n",
    "    val = np.sum(model.predict_classes(np.vstack(lines))) / 5\n",
    "    if val > 0.6:\n",
    "        rc.sock.send(b'\\x01')\n",
    "        print(val)\n",
    "    else:\n",
    "        rc.sock.send(b'\\x00')\n",
    "    "
   ]
  }
 ],
 "metadata": {
  "kernelspec": {
   "display_name": "Python 2",
   "language": "python",
   "name": "python2"
  },
  "language_info": {
   "codemirror_mode": {
    "name": "ipython",
    "version": 2
   },
   "file_extension": ".py",
   "mimetype": "text/x-python",
   "name": "python",
   "nbconvert_exporter": "python",
   "pygments_lexer": "ipython2",
   "version": "2.7.15"
  }
 },
 "nbformat": 4,
 "nbformat_minor": 2
}
