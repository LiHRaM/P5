{
 "cells": [
  {
   "cell_type": "markdown",
   "metadata": {},
   "source": [
    "# Proof of Concept Prototype\n",
    "\n",
    "This is the first attempt at generating a Neural Network which can recognize the cry of a child, using Keras and CNTK"
   ]
  },
  {
   "cell_type": "code",
   "execution_count": 37,
   "metadata": {},
   "outputs": [],
   "source": [
    "from __future__ import print_function\n",
    "from keras.models import Sequential\n",
    "from keras.layers import Dense\n",
    "from keras.layers import BatchNormalization, LeakyReLU\n",
    "import numpy as np"
   ]
  },
  {
   "cell_type": "markdown",
   "metadata": {},
   "source": [
    "Having imported the necessary libraries, we now move on to load the files.\n",
    "The files contain the data for the different sets, and their labels are generated."
   ]
  },
  {
   "cell_type": "code",
   "execution_count": 3,
   "metadata": {
    "scrolled": false
   },
   "outputs": [
    {
     "name": "stdout",
     "output_type": "stream",
     "text": [
      "Cries #: (9000L, 128L)\n",
      "Noise #: (25000L, 128L)\n"
     ]
    }
   ],
   "source": [
    "cries = np.load(\"../dataset/slow/cries.npy\")\n",
    "cry_labels = np.ones((cries.shape[0], 1), dtype=int)\n",
    "\n",
    "noise = np.load(\"../dataset/slow/noise.npy\")\n",
    "noise_labels = np.zeros((noise.shape[0], 1), dtype=int)\n",
    "\n",
    "print(\"Cries #:\", cries.shape)\n",
    "print(\"Noise #:\", noise.shape)"
   ]
  },
  {
   "cell_type": "markdown",
   "metadata": {},
   "source": [
    "The shape describes the two dimensions of the dataset, i.e. the amount of rows and their length.\n",
    "\n",
    "Say with a matrix of (100L, 128L), there are 100 rows with a vector of length 128.\n",
    "\n",
    "Now that we have our datasets loaded, we can design our neural network.\n",
    "\n",
    "**Note**: These datasets are quite small, but will be expanded in the future."
   ]
  },
  {
   "cell_type": "code",
   "execution_count": 4,
   "metadata": {},
   "outputs": [],
   "source": [
    "# Designate how large a part of the datasets will be used for testing and training, respectively.\n",
    "c_len = cries.shape[0]\n",
    "c_cut = (c_len/10)*8\n",
    "n_len = noise.shape[0]\n",
    "n_cut = (n_len/10)*8\n",
    "\n",
    "training_data = np.vstack((cries[:c_cut],noise[:n_cut]))\n",
    "training_labels = np.vstack((cry_labels[:c_cut], noise_labels[:n_cut]))\n",
    "\n",
    "testing_data = np.vstack((cries[c_cut:],noise[n_cut:]))\n",
    "testing_labels = np.vstack((cry_labels[c_cut:], noise_labels[n_cut:]))"
   ]
  },
  {
   "cell_type": "code",
   "execution_count": 60,
   "metadata": {},
   "outputs": [
    {
     "name": "stdout",
     "output_type": "stream",
     "text": [
      "Epoch 1/5\n",
      "27200/27200 [==============================] - 5s 179us/step - loss: 0.3133 - acc: 0.8774A: 2s - loss: 0.3254 - - ETA: 1s - loss: 0\n",
      "Epoch 2/5\n",
      "27200/27200 [==============================] - 5s 177us/step - loss: 0.2841 - acc: 0.8934 4s - lo - ETA: 2s - loss: 0.2909 - acc: - ETA: 2s - loss: 0.2886 - acc: 0. - ETA: 1s - lo - ETA: 0s - loss: 0.2854 - acc: 0.\n",
      "Epoch 3/5\n",
      "27200/27200 [==============================] - 5s 181us/step - loss: 0.2771 - acc: 0.8961 2s - loss: 0.2830 - acc:  - ETA: 1s \n",
      "Epoch 4/5\n",
      "27200/27200 [==============================] - 5s 178us/step - loss: 0.2737 - acc: 0.8978 3s - loss: 0.2906  - ETA: - ETA: 0s - loss: 0.2746 - acc: 0\n",
      "Epoch 5/5\n",
      "27200/27200 [==============================] - 5s 179us/step - loss: 0.2701 - acc: 0.8988 1s - \n"
     ]
    },
    {
     "data": {
      "text/plain": [
       "<keras.callbacks.History at 0x187f1d30>"
      ]
     },
     "execution_count": 60,
     "metadata": {},
     "output_type": "execute_result"
    }
   ],
   "source": [
    "model = Sequential()\n",
    "model.add(BatchNormalization(input_shape=(128,)))\n",
    "model.add(Dense(units=4))\n",
    "model.add(LeakyReLU())\n",
    "model.add(Dense(units=1, activation=\"sigmoid\"))\n",
    "\n",
    "model.compile(optimizer='adam', loss='binary_crossentropy', metrics=['accuracy'])\n",
    "model.fit(training_data, training_labels, epochs=5, batch_size=128)"
   ]
  },
  {
   "cell_type": "code",
   "execution_count": 65,
   "metadata": {},
   "outputs": [
    {
     "name": "stdout",
     "output_type": "stream",
     "text": [
      "6800/6800 [==============================] - 1s 85us/step\n",
      "loss 0.22400503666961893\n",
      "acc 0.9202941176470588\n"
     ]
    }
   ],
   "source": [
    "# The output of the final evaluation lists the following metrics\n",
    "mets = model.metrics_names\n",
    "vals = model.evaluate(testing_data, testing_labels, batch_size=128)\n",
    "\n",
    "for i in range(0, len(mets)):\n",
    "    print(mets[i], vals[i])"
   ]
  },
  {
   "cell_type": "code",
   "execution_count": 62,
   "metadata": {},
   "outputs": [
    {
     "name": "stdout",
     "output_type": "stream",
     "text": [
      "tp rate:  0.730222222222 \n",
      "fp rate:  0.03236\n"
     ]
    }
   ],
   "source": [
    "# true positive rate\n",
    "tp = np.sum(model.predict_classes(cries))\n",
    "tp_rate = float(tp)/cries.shape[0]\n",
    "\n",
    "# false positive rate\n",
    "fp = np.sum(model.predict_classes(noise))\n",
    "fp_rate = float(fp)/noise.shape[0]\n",
    "\n",
    "print(\"tp rate: \", tp_rate, \"\\nfp rate: \", fp_rate)"
   ]
  },
  {
   "cell_type": "code",
   "execution_count": 67,
   "metadata": {},
   "outputs": [],
   "source": [
    "# Save the successful model\n",
    "model.save(\"recognizer.h5\")"
   ]
  },
  {
   "cell_type": "markdown",
   "metadata": {},
   "source": [
    "**On saving the model**:\n",
    "Saving the model allows us to load the configuration with associated weights and configurations, so that we do not have to train it again.\n",
    "\n",
    "## Connecting to the NXT\n",
    "Now that the model has been trained, we can move on to using this recognizer to classify the input from the NXT."
   ]
  },
  {
   "cell_type": "code",
   "execution_count": 23,
   "metadata": {},
   "outputs": [
    {
     "name": "stdout",
     "output_type": "stream",
     "text": [
      "Connecting via Bluetooth...\n",
      "Connected.\n",
      "Value: 1.0\n",
      "Value: 1.0\n",
      "Value: 0.8\n",
      "Value: 0.8\n",
      "Value: 1.0\n",
      "Value: 1.0\n",
      "Value: 0.8\n",
      "Value: 0.8\n",
      "Value: 0.8\n",
      "Value: 1.0\n",
      "Value: 0.8\n",
      "Value: 0.8\n",
      "Value: 0.8\n",
      "Value: 0.8\n",
      "Value: 1.0\n"
     ]
    }
   ],
   "source": [
    "# These are in the keras folder\n",
    "from receiver import NXTReceiver, unpack_u16\n",
    "\n",
    "rc = NXTReceiver() # Connect to the NXT via MAC address\n",
    "count = 15\n",
    "while count != 0:\n",
    "    lines = []\n",
    "    for i in range(0, 5): # Receive 5 buffers\n",
    "        line = rc.recv(256)\n",
    "        lines.append([unpack_u16(line[i:i+2]) for i in range(0, line.__len__(), 2)])\n",
    "    val = np.sum(model.predict_classes(np.vstack(lines))))\n",
    "    if val > 3.5:\n",
    "        rc.sock.send(b'\\x01')\n",
    "        print(\"Value:\", val)\n",
    "        count -= 1\n",
    "    else:\n",
    "        rc.sock.send(b'\\x00')\n",
    "    "
   ]
  }
 ],
 "metadata": {
  "kernelspec": {
   "display_name": "Python 2",
   "language": "python",
   "name": "python2"
  },
  "language_info": {
   "codemirror_mode": {
    "name": "ipython",
    "version": 2
   },
   "file_extension": ".py",
   "mimetype": "text/x-python",
   "name": "python",
   "nbconvert_exporter": "python",
   "pygments_lexer": "ipython2",
   "version": "2.7.15"
  }
 },
 "nbformat": 4,
 "nbformat_minor": 2
}
